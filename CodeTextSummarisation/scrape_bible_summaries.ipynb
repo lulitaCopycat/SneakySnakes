{
 "cells": [
  {
   "cell_type": "markdown",
   "metadata": {},
   "source": [
    "<div class=\"alert alert-info\">\n",
    "At the end of this notebook we will have a complete dataset of [text, summary] of the bible for text summarisation.\n",
    "<br>    <br>\n",
    "This notebook is split in three parts:  \n",
    "    \n",
    "#### 1) Scraping bible summaries from biblesummary.info\n",
    "    \n",
    "<ul>\n",
    "    <li> following results are saved to txt file for further processing:\n",
    "    <ul>\n",
    "        <li> summaries for each of the 66 books\n",
    "        <li> summaries for each chapter of each book, 1189 in total\n",
    "    </ul>\n",
    "</ul>\n",
    "    \n",
    "#### 2) Extracting text from bible.txt \n",
    "\n",
    "<ul>\n",
    "    <li> following results are saved to txt file for further processing:\n",
    "    <ul>\n",
    "        <li> text for each of the 66 books\n",
    "        <li> text for each chapter of each book, 1189 in total\n",
    "    </ul>\n",
    "</ul>\n",
    "    \n",
    "#### 3) Some statistics for the data"
   ]
  },
  {
   "cell_type": "markdown",
   "metadata": {},
   "source": [
    "<div class=\"alert alert-info\">\n",
    "    \n",
    "## 1) Scraping bible summaries    \n",
    "    \n",
    "    \n",
    "The reader is encouraged to take a quick look at the website:\n",
    "    \n",
    "    https://biblesummary.info/genesis"
   ]
  },
  {
   "cell_type": "code",
   "execution_count": 148,
   "metadata": {},
   "outputs": [],
   "source": [
    "import spacy\n",
    "import en_core_web_sm\n",
    "nlp = en_core_web_sm.load()\n",
    "from os import listdir\n",
    "from os.path import isfile, join\n",
    "import string\n",
    "from bs4 import BeautifulSoup"
   ]
  },
  {
   "cell_type": "code",
   "execution_count": 149,
   "metadata": {},
   "outputs": [
    {
     "data": {
      "text/plain": [
       "66"
      ]
     },
     "execution_count": 149,
     "metadata": {},
     "output_type": "execute_result"
    }
   ],
   "source": [
    "# Extract all 66 URLs for the summaries\n",
    "# Each URL holds multiple summaries for that book of the bible\n",
    "\n",
    "import requests\n",
    "page = requests.get(\"https://biblesummary.info/2-kings\")\n",
    "\n",
    "html = str(page.content)\n",
    "\n",
    "names = []\n",
    "subpages = []\n",
    "substring = '<li><a href=\"'\n",
    "endsymbol = '</a></li>'\n",
    "count = html.count(substring)\n",
    "\n",
    "for c in range(count):\n",
    "    start = html.index(substring)\n",
    "    html = html[start:]\n",
    "    end = html.index(endsymbol)\n",
    "    snippet = html[13:end]\n",
    "    html = html[end:]\n",
    "    names.append(snippet)\n",
    "names\n",
    "\n",
    "for n in range(len(names)):\n",
    "    subpages.append(names[n][:names[n].index('\"')])\n",
    "    names[n] = names[n][names[n].index('>')+1 :]\n",
    "\n",
    "chapter_urls = []\n",
    "\n",
    "for elem in subpages:\n",
    "    chapter_urls.append('https://biblesummary.info'+elem)\n",
    "    \n",
    "len(chapter_urls    )"
   ]
  },
  {
   "cell_type": "code",
   "execution_count": 150,
   "metadata": {},
   "outputs": [],
   "source": [
    "def extract_summaries_from_website(website):\n",
    "    \"\"\"\n",
    "    Input: An URL\n",
    "    \n",
    "    Output: \n",
    "        chapters: a list of the chapter_numbers\n",
    "        \n",
    "        summaries: a list with the summaries as string\n",
    "    \"\"\"\n",
    "    \n",
    "    page = requests.get(website)    \n",
    "\n",
    "    summaries = []\n",
    "    chapters = []\n",
    "\n",
    "    # count = count occurences of '<p class=\"tweet_content\">'\n",
    "    html = str(page.content)\n",
    "    substring = '<p class=\"tweet_content\">'\n",
    "    endsymbol = '</p>'\n",
    "    count = html.count(substring)\n",
    "\n",
    "    for c in range(count):\n",
    "\n",
    "        # start = position of '<p class=\"tweet_content\">'\n",
    "        start = html.index(substring)   # 4965\n",
    "\n",
    "        # rest_text = html[start:]\n",
    "        html = html[start:]\n",
    "\n",
    "        # end = position of '</p>'\n",
    "        end = html.index(endsymbol)\n",
    "\n",
    "        # snippet = rest_text[:end]\n",
    "        snippet = html[:end]\n",
    "\n",
    "        # rest_text = rest_text[end:]\n",
    "        html = html[end:]\n",
    "\n",
    "        # snippet = soup.clean_html(snippet)\n",
    "\n",
    "\n",
    "\n",
    "        snippet = BeautifulSoup(snippet, \"lxml\").text\n",
    "\n",
    "        chapter = snippet[:snippet.index(':')].replace('\\\\r\\\\n','')\n",
    "        summary = snippet[snippet.index(':')+2 :].replace('\\\\','')\n",
    "\n",
    "        chapters.append(chapter)\n",
    "        summaries.append(summary)\n",
    "        \n",
    "    return chapters, summaries\n"
   ]
  },
  {
   "cell_type": "code",
   "execution_count": 151,
   "metadata": {},
   "outputs": [],
   "source": [
    "# Use the above defined function to save all summaries and chapter_numbers\n",
    "\n",
    "summaries = []\n",
    "chapter_abbreviations = []\n",
    "\n",
    "for url in chapter_urls:\n",
    "    abbr, summ = extract_summaries_from_website(url)\n",
    "    chapter_abbreviations.append(abbr)    \n",
    "    summaries.append(summ)   "
   ]
  },
  {
   "cell_type": "code",
   "execution_count": 152,
   "metadata": {},
   "outputs": [
    {
     "data": {
      "text/plain": [
       "(66, 50)"
      ]
     },
     "execution_count": 152,
     "metadata": {},
     "output_type": "execute_result"
    }
   ],
   "source": [
    "len(summaries), len(summaries[0])"
   ]
  },
  {
   "cell_type": "code",
   "execution_count": 153,
   "metadata": {},
   "outputs": [
    {
     "data": {
      "text/plain": [
       "(66, 50)"
      ]
     },
     "execution_count": 153,
     "metadata": {},
     "output_type": "execute_result"
    }
   ],
   "source": [
    "len(chapter_abbreviations), len(chapter_abbreviations[0])"
   ]
  },
  {
   "cell_type": "code",
   "execution_count": 154,
   "metadata": {},
   "outputs": [
    {
     "data": {
      "text/plain": [
       "1189"
      ]
     },
     "execution_count": 154,
     "metadata": {},
     "output_type": "execute_result"
    }
   ],
   "source": [
    "# How many chapters do we have in total?\n",
    "# 1189 is actuall correct, I checked it manually on biblesummary.info\n",
    "\n",
    "c = 0\n",
    "for n in range(len(summaries)):\n",
    "    c += len(summaries[n])\n",
    "    #print(len(summaries[n]))\n",
    "c    "
   ]
  },
  {
   "cell_type": "code",
   "execution_count": 160,
   "metadata": {},
   "outputs": [
    {
     "data": {
      "text/plain": [
       "(66, 50)"
      ]
     },
     "execution_count": 160,
     "metadata": {},
     "output_type": "execute_result"
    }
   ],
   "source": [
    "len(summaries), len(summaries[0])"
   ]
  },
  {
   "cell_type": "code",
   "execution_count": 155,
   "metadata": {},
   "outputs": [],
   "source": [
    "# save each summary in the form of a pre-processed string\n",
    "\n",
    "summaries = [[nlp(summary.replace('\\n','')) for summary in elem] for elem in summaries]\n",
    "summaries = [[[token.text.lower() for token in summary if ' ' not in token.text] for summary in elem] for elem in summaries]\n",
    "\n",
    "with open('1189_test_summaries.txt', 'a') as the_file:\n",
    "    for n in range(len(names)):\n",
    "        for i in range(len(summaries[n])):\n",
    "            the_file.write(' '.join(summaries[n][i]) + '\\n')     \n",
    "        "
   ]
  },
  {
   "cell_type": "code",
   "execution_count": 156,
   "metadata": {},
   "outputs": [],
   "source": [
    "summaries_66 = [' '.join([' '.join(summary) for summary in book]) for book in summaries]"
   ]
  },
  {
   "cell_type": "code",
   "execution_count": 157,
   "metadata": {},
   "outputs": [
    {
     "data": {
      "text/plain": [
       "(66, 6805, 66, 50)"
      ]
     },
     "execution_count": 157,
     "metadata": {},
     "output_type": "execute_result"
    }
   ],
   "source": [
    "len(summaries_66), len(summaries_66[0]), len(summaries), len(summaries[0])"
   ]
  },
  {
   "cell_type": "code",
   "execution_count": 158,
   "metadata": {},
   "outputs": [],
   "source": [
    "with open('66_test_summaries.txt', 'a') as the_file:\n",
    "    for n in range(len(summaries_66)):\n",
    "        the_file.write(summaries_66[n] + '\\n')\n"
   ]
  },
  {
   "cell_type": "code",
   "execution_count": null,
   "metadata": {},
   "outputs": [],
   "source": [
    "# achieved:\n",
    "\n",
    "# bible_chapter_summaries is a file with all 1189 summaries\n",
    "\n",
    "# bible_chapter_summaries_66 is a file with all 1189 summaries concatenated to be 66 e.g. one for each book"
   ]
  },
  {
   "cell_type": "markdown",
   "metadata": {},
   "source": [
    "<div class=\"alert alert-info\">\n",
    "    \n",
    "## 2) Extracting text from bible.txt\n"
   ]
  },
  {
   "cell_type": "markdown",
   "metadata": {},
   "source": [
    "The bible.txt used below is the product of a former assignment of one of the team members' undergraduate studies. The raw data that were used back then are available at kaggle: <a href=\"https://www.kaggle.com/oswinrh/bible\">https://www.kaggle.com/oswinrh/bible</a>. It is the same source that we use for creating our summaries and the goldstandard by extracting the first sentence. "
   ]
  },
  {
   "cell_type": "code",
   "execution_count": 74,
   "metadata": {},
   "outputs": [],
   "source": [
    "import spacy\n",
    "import en_core_web_sm\n",
    "nlp = en_core_web_sm.load()\n",
    "from os import listdir\n",
    "from os.path import isfile, join\n",
    "import string\n",
    "import re"
   ]
  },
  {
   "cell_type": "code",
   "execution_count": 75,
   "metadata": {},
   "outputs": [],
   "source": [
    "\n",
    "#with open('/Users/nico/tf/bible.txt', 'r') as f:\n",
    "with open('bible.txt', 'r') as f:\n",
    "     bible = f.read()"
   ]
  },
  {
   "cell_type": "code",
   "execution_count": 76,
   "metadata": {},
   "outputs": [],
   "source": [
    "# The following are landmarks that appear before each chapter, so they are useful landmarks to chunk the file into peaces, each one containing a chapter\n",
    "\n",
    "substring = '\\n\\n\\n\\n\\n'\n",
    "endsymbol = '\\n\\n\\n'\n",
    "count = bible.count(substring)"
   ]
  },
  {
   "cell_type": "code",
   "execution_count": 77,
   "metadata": {},
   "outputs": [
    {
     "data": {
      "text/plain": [
       "66"
      ]
     },
     "execution_count": 77,
     "metadata": {},
     "output_type": "execute_result"
    }
   ],
   "source": [
    "# how many chapters do we have?\n",
    "count"
   ]
  },
  {
   "cell_type": "code",
   "execution_count": 78,
   "metadata": {},
   "outputs": [],
   "source": [
    "# This cell uses the above defined landmarks to to pick out substrings (e.g. books) from the text file and save them in the list 'books'\n",
    "\n",
    "books = []\n",
    "for i in range(count):\n",
    "    if i == 0:\n",
    "        substring = 'The First Book of Moses'\n",
    "    else: \n",
    "        substring = '\\n\\n\\n\\n\\n'\n",
    "        \n",
    "\n",
    "    start = bible.index(substring)\n",
    "    substring = '\\n\\n\\n\\n\\n'\n",
    "\n",
    "\n",
    "    bible = bible[start+5:]\n",
    "    if i < count-1:\n",
    "        end = bible.index(substring)\n",
    "    else:\n",
    "        end = len(bible)\n",
    "\n",
    "    snippet = bible[:end]\n",
    "    bible = bible[end-5:]\n",
    "    books.append(snippet)\n",
    "    \n",
    "books.pop(39)\n",
    "books.append(books[-1][3690:])\n",
    "books[-2] = books[-2][:3690]"
   ]
  },
  {
   "cell_type": "markdown",
   "metadata": {},
   "source": [
    "So, what I have found is the positions of the beginnings of the books of the bible. \n",
    "\n"
   ]
  },
  {
   "cell_type": "code",
   "execution_count": 79,
   "metadata": {},
   "outputs": [],
   "source": [
    "# In every one of the 66 books, every sentence is numbered with 'chapter_number : sentence_number'. \n",
    "# The following is a lookup-function to search for those numerations. \n",
    "# They will be used to divide each book into multiple chapters.\n",
    "\n",
    "\n",
    "def search_patterns(string):\n",
    "    m1 = re.search(r\"\\d:\\d\", string)\n",
    "    m2 = re.search(r\"\\d:\\d\\d\", string)\n",
    "    m3 = re.search(r\"\\d:\\d\\d\\d\", string)\n",
    "    \n",
    "    m4 = re.search(r\"\\d\\d:\\d\", string)\n",
    "    m5 = re.search(r\"\\d\\d:\\d\\d\", string)\n",
    "    m6 = re.search(r\"\\d\\d:\\d\\d\\d\", string)\n",
    "    \n",
    "    m7 = re.search(r\"\\d\\d\\d:\\d\", string)\n",
    "    m8 = re.search(r\"\\d\\d\\d:\\d\\d\", string)\n",
    "    m9 = re.search(r\"\\d\\d\\d:\\d\\d\\d\", string)\n",
    "\n",
    "    if m9 != None:\n",
    "        return m9\n",
    "    if m8 != None:\n",
    "        return m8\n",
    "    if m7 != None:\n",
    "        return m7\n",
    "    if m6 != None:\n",
    "        return m6\n",
    "    if m6 != None:\n",
    "        return m5\n",
    "    if m4 != None:\n",
    "        return m4\n",
    "    if m3 != None:\n",
    "        return m3\n",
    "    if m2 != None:\n",
    "        return m2\n",
    "    if m1 != None:\n",
    "        return m1"
   ]
  },
  {
   "cell_type": "code",
   "execution_count": 80,
   "metadata": {
    "scrolled": true
   },
   "outputs": [],
   "source": [
    "# This function will be extract the sentences and chapter_numbers from each of the above\n",
    "# defined books.\n",
    "\n",
    "def extract_chapter_nums_and_sentences(book):\n",
    "    \"\"\"\n",
    "    Input: One of the 66 bible_books as a string\n",
    "    \n",
    "    Output:\n",
    "        chapters: a list with chapter_numbers for each sentence of the book\n",
    "        sentences: a list with all the sentences of the book    \n",
    "    \"\"\"\n",
    "    \n",
    "    chap_nums = []\n",
    "    sentences = []\n",
    "\n",
    "    book = book.replace('\\n',' ')\n",
    "\n",
    "    finished = False\n",
    "    while not finished:\n",
    "        m = re.search(r\"\\d:\\d\", book)\n",
    "        if m == None:\n",
    "            finished = True\n",
    "            break\n",
    "        begin, end = m.span()\n",
    "        m = search_patterns(book[ : end+1])\n",
    "\n",
    "        chap_num = m[0]\n",
    "\n",
    "        book = book[end+1 :]\n",
    "\n",
    "        m2 = re.search(r\"\\d:\\d\", book)\n",
    "        if m2 == None:\n",
    "            sentence = book\n",
    "            finished = True\n",
    "\n",
    "\n",
    "        if m2 != None:\n",
    "            begin2, end2 = m2.span()\n",
    "            m = search_patterns(book[ : end2+1])\n",
    "            begin2,end2 = m.span()\n",
    "            sentence = book[ : begin2]\n",
    "\n",
    "\n",
    "        chap_nums.append(chap_num)\n",
    "        sentences.append(sentence)\n",
    "        \n",
    "        for i, chap in enumerate(chap_nums):\n",
    "            m = re.search(r\":\", chap)\n",
    "            begin, end = m.span()\n",
    "            chap_nums[i] = chap[:end]\n",
    "            chap_nums[i] = chap_nums[i]\n",
    "            \n",
    "    for i in range(len(chap_nums)):\n",
    "        chap_nums[i] = chap_nums[i][:-1]\n",
    "        \n",
    "    # achieved: c, s\n",
    "    \n",
    "\n",
    "    c = chap_nums\n",
    "    s = sentences\n",
    "    \n",
    "    cc = []\n",
    "    ss = []\n",
    "    \n",
    "    chapter_text = ''\n",
    "\n",
    "    for i in range(len(c)):\n",
    "        if c[i] not in cc:\n",
    "            cc.append(c[i])        \n",
    "            if i != 0:\n",
    "                ss.append(chapter_text.replace('   ',' ').replace('  ', ' '))\n",
    "            chapter_text = s[i]\n",
    "\n",
    "        if c[i] in cc:\n",
    "            if s[i] != chapter_text:\n",
    "                chapter_text += s[i]\n",
    "            if i == len(c)-1:\n",
    "                ss.append(chapter_text.replace('   ',' ').replace('  ', ' '))\n",
    "\n",
    "\n",
    "    return cc, ss\n"
   ]
  },
  {
   "cell_type": "code",
   "execution_count": 83,
   "metadata": {},
   "outputs": [],
   "source": [
    "# Use the above defined function to extract the chapters and senteces\n",
    "\n",
    "chapters_1189 = []\n",
    "sentences_1189 = []\n",
    "\n",
    "for i, book in enumerate(books):\n",
    "    c, s = extract_chapter_nums_and_sentences(book)\n",
    "    chapters_1189.append(c)\n",
    "    sentences_1189.append(s)"
   ]
  },
  {
   "cell_type": "code",
   "execution_count": 84,
   "metadata": {
    "scrolled": false
   },
   "outputs": [
    {
     "data": {
      "text/plain": [
       "(66, 66, 66)"
      ]
     },
     "execution_count": 84,
     "metadata": {},
     "output_type": "execute_result"
    }
   ],
   "source": [
    "len(chapters_1189), len(sentences_1189), len(books)"
   ]
  },
  {
   "cell_type": "code",
   "execution_count": 85,
   "metadata": {},
   "outputs": [
    {
     "data": {
      "text/plain": [
       "(40, 40)"
      ]
     },
     "execution_count": 85,
     "metadata": {},
     "output_type": "execute_result"
    }
   ],
   "source": [
    "len(chapters_1189[1]), len(sentences_1189[1])"
   ]
  },
  {
   "cell_type": "code",
   "execution_count": 86,
   "metadata": {},
   "outputs": [
    {
     "data": {
      "text/plain": [
       "1189"
      ]
     },
     "execution_count": 86,
     "metadata": {},
     "output_type": "execute_result"
    }
   ],
   "source": [
    "# How many chapters do we have?\n",
    "# 1189 is actuall correct, I checked it manually on biblesummary.info\n",
    "# len(sentences) == len(summaries) True\n",
    "c = 0\n",
    "for n in range(len(sentences_1189)):\n",
    "    c += len(sentences_1189[n])\n",
    "c"
   ]
  },
  {
   "cell_type": "code",
   "execution_count": 87,
   "metadata": {},
   "outputs": [],
   "source": [
    "# Apply some pre-processing before saving to txt.file\n",
    "\n",
    "sentences_1189 = [[nlp(sentence.replace('\\n','')) for sentence in elem] for elem in sentences_1189]\n",
    "\n",
    "sentences_1189 = [[[token.text.lower() for token in sentence if ' ' not in token.text] for sentence in elem] for elem in sentences_1189]"
   ]
  },
  {
   "cell_type": "code",
   "execution_count": 94,
   "metadata": {},
   "outputs": [],
   "source": [
    "# Save in txt file as 1189 chapters separated by new line\n",
    "\n",
    "with open('1189_test_bible_chapters.txt', 'a') as the_file:\n",
    "    for n in range(len(sentences_1189)):\n",
    "        for i in range(len(sentences_1189[n])):\n",
    "            the_file.write(' '.join(sentences_1189[n][i]) + '\\n')                     "
   ]
  },
  {
   "cell_type": "code",
   "execution_count": 95,
   "metadata": {},
   "outputs": [
    {
     "data": {
      "text/plain": [
       "2907"
      ]
     },
     "execution_count": 95,
     "metadata": {},
     "output_type": "execute_result"
    }
   ],
   "source": [
    "# calulate max length (in number of words) of the 1189 bible chapters\n",
    "\n",
    "maxlen = 0\n",
    "for n in range(len(sentences_1189)):\n",
    "    for i in range(len(sentences_1189[n])):\n",
    "        if len(sentences_1189[n][i]) > maxlen:\n",
    "            maxlen = len(sentences_1189[n][i])\n",
    "maxlen            "
   ]
  },
  {
   "cell_type": "code",
   "execution_count": 96,
   "metadata": {},
   "outputs": [],
   "source": [
    "# Concatenate all chapters back to books to have a file with 66 elements\n",
    "\n",
    "sentences_66 = [' '.join([' '.join(summary) for summary in book]) for book in sentences_1189]"
   ]
  },
  {
   "cell_type": "code",
   "execution_count": 98,
   "metadata": {},
   "outputs": [
    {
     "data": {
      "text/plain": [
       "(66, 203520)"
      ]
     },
     "execution_count": 98,
     "metadata": {},
     "output_type": "execute_result"
    }
   ],
   "source": [
    "len(sentences_66), len(sentences_66[0])"
   ]
  },
  {
   "cell_type": "code",
   "execution_count": 99,
   "metadata": {},
   "outputs": [],
   "source": [
    "with open('66_test_bible_chapters.txt', 'a') as the_file:\n",
    "    for n in range(len(summaries_66)):\n",
    "        the_file.write(summaries_66[n] + '\\n')\n"
   ]
  },
  {
   "cell_type": "markdown",
   "metadata": {},
   "source": [
    "<div class=\"alert alert-info\">\n",
    "    \n",
    "## 3) Some statistics for the data"
   ]
  },
  {
   "cell_type": "code",
   "execution_count": 108,
   "metadata": {},
   "outputs": [],
   "source": [
    "sum_text_ratio_66 = []\n",
    "for n in range(len(summaries_66)):\n",
    "    sum_text_ratio.append(len(summaries_66[n]) / len(sentences_66[n]))"
   ]
  },
  {
   "cell_type": "code",
   "execution_count": 137,
   "metadata": {},
   "outputs": [],
   "source": [
    "sum_text_ratio_1189 = []\n",
    "for n in range(len(summaries)):\n",
    "    for i in range(len(summaries[n])):        \n",
    "        sum_text_ratio_1189.append(len(' '.join(summaries[n][i])) / len(' '.join(sentences_1189[n][i])))\n"
   ]
  },
  {
   "cell_type": "code",
   "execution_count": 115,
   "metadata": {
    "collapsed": true
   },
   "outputs": [
    {
     "data": {
      "text/plain": [
       "['god',\n",
       " 'created',\n",
       " 'the',\n",
       " 'heavens',\n",
       " ',',\n",
       " 'the',\n",
       " 'earth',\n",
       " 'and',\n",
       " 'everything',\n",
       " 'that',\n",
       " 'lives',\n",
       " '.',\n",
       " 'he',\n",
       " 'made',\n",
       " 'humankind',\n",
       " 'in',\n",
       " 'his',\n",
       " 'image',\n",
       " ',',\n",
       " 'and',\n",
       " 'gave',\n",
       " 'them',\n",
       " 'charge',\n",
       " 'over',\n",
       " 'the',\n",
       " 'earth',\n",
       " '.']"
      ]
     },
     "execution_count": 115,
     "metadata": {},
     "output_type": "execute_result"
    }
   ],
   "source": [
    "#sentences_1189[0][0]\n",
    "#summaries[0][0]"
   ]
  },
  {
   "cell_type": "code",
   "execution_count": 113,
   "metadata": {
    "collapsed": true
   },
   "outputs": [
    {
     "data": {
      "text/plain": [
       "'god created the heavens , the earth and everything that lives . he made humankind in his image , and gave them charge over the earth . god formed a man and gave him the garden in eden , except the tree of good and evil . adam was alone so god made a woman as his partner . the serpent deceived the woman . she and adam ate from the tree . the ground was cursed , and god sent adam and eve out of the garden . eve \\'s sons made offerings to the lord . only abel \\'s was acceptable , so cain killed him . abel \\'s blood cried out and god sent cain away . adam \\'s line was : seth , enosh , kenan , mahalalel , jared , enoch , methuselah , lamech and noah . noah \\'s sons were shem , ham and japheth . humankind corrupted the earth with evil . god decided to destroy them . he told noah to build an ark to be saved from the flood . noah and his family went into the ark with two of each creature . it rained for forty days and forty nights and the earth was covered . the flood abated . noah sent out a raven and two doves . when the earth was dry god called them all out of the ark . noah built an altar . god blessed noah and set the rainbow as a sign that he would never flood the earth again . noah got drunk and cursed ham \\'s son canaan . japheth \\'s line lived in the coastlands ; ham \\'s included nimrod and the canaanites ; shem \\'s lived in the east . these formed the nations . they began building a great tower for themselves , but the lord confused their language . shem \\'s line included abram who married sarai . god told abram , \" go , i will make you a great nation . you will be a blessing . \" in egypt abram lied about sarai and pharaoh was cursed . abram journeyed with his nephew lot . their servants argued , so lot went to sodom , abram to canaan . the lord promised abram the land . the kings went to war and took lot captive . abram rescued lot . melchizedek blessed abram and abram gave him a tenth of everything . the lord promised abram an heir and many descendants . abram believed . he was told that they would be enslaved but would then return . sarai told abram to have children with hagar . hagar conceived , then ran away , but an angel sent her back . hagar \\'s son was ishmael . god made a covenant with abram and renamed him abraham . he renamed sarai sarah and promised them a son . the men were circumcised . three visitors came and said that sarah would have a son next year . sodom was very evil ; abraham pleaded with the lord for the city . angels took lot out of sodom . the city was destroyed by fire and lot \\'s wife was turned to salt . his daughters had children for him . in gerar abraham said , \" sarah is my sister . \" king abimelech took her but god warned him in a dream . he restored sarah to abraham . as promised , sarah had a son : isaac . she had hagar and ishmael sent away but god preserved them . abraham and abimelech made a treaty . god told abraham to sacrifice isaac . as abraham obeyed , an angel stopped him . the lord provided a ram instead and blessed abraham . sarah died in kiriath - arba . abraham asked the hittites for a burial site . he bought a cave from ephron and buried sarah there . abraham \\'s servant went to nahor to find a wife for isaac . he met rebekah by the well . she went back with him and married isaac . abraham died and was buried with sarah . isaac and rebekah had twins : esau and jacob . esau sold his birthright to jacob for a meal . in gerar isaac lied about rebekah . he grew so rich that abimelech sent him away . he dug wells , and at beersheba the lord blessed him . rebekah and jacob tricked isaac into giving jacob his blessing . esau vowed revenge so rebekah told jacob to go to her brother laban . isaac sent jacob to marry one of laban \\'s daughters . on the way jacob dreamed of a ladder reaching to heaven and the lord blessed him . jacob worked for laban seven years to marry rachel , but laban gave him leah and made him work seven more for rachel . leah had sons . rachel \\'s maid had sons for jacob , then leah \\'s maid , then leah . finally rachel had a son . laban allowed jacob flocks as wages to stay . the lord told jacob to return home . jacob left in secret and rachel took laban \\'s idols . laban chased jacob but they made a treaty . jacob heard that esau was coming to meet him . he was afraid and sent gifts . that night he wrestled with a man who renamed him israel . esau and his men arrived . jacob bowed down but esau ran to embrace him . jacob settled near shechem and built an altar . shechem raped jacob \\'s daughter and asked to marry her . jacob \\'s sons told him to circumcise his men , then simeon and levi killed them . jacob went to bethel and god renamed him israel . they journeyed on . rachel died having israel \\'s twelfth son . isaac died in hebron . esau \\'s sons were eliphaz , reuel , jeush , jalam and korah . esau and his family moved away to seir . they became the edomites . joseph was israel \\'s favourite son . he had dreams and his brothers were jealous so they sold him . he was bought by potiphar in egypt . judah \\'s sons er and onan died , leaving tamar a widow . judah sent her away but she put on a veil and he slept with her . she had twins . potiphar put joseph in charge of his house . his wife tried to seduce joseph , then lied about it , so potiphar put joseph in prison . pharaoh put his cupbearer and baker in prison . joseph interpreted their dreams . the cupbearer was restored but the baker was hanged . pharaoh had a dream and called for joseph to interpret it . the dream predicted a famine . pharaoh put joseph in charge of all egypt . joseph \\'s brothers went to egypt to buy grain but did n\\'t recognise him . he kept simeon in prison and sent the rest to fetch benjamin . when the grain ran out , joseph \\'s brothers went back to egypt with benjamin . joseph invited them to his house and gave them a feast . joseph hid his cup in benjamin \\'s sack , then sent a steward after his brothers . judah offered himself as a slave instead of benjamin . joseph told his brothers who he was . they were afraid , but he told them , \" god sent me here . \" his brothers went to fetch their father . so israel set out with all his household . god told him not to be afraid . israel and all his family came to egypt and joseph met him . pharaoh allowed joseph \\'s family to settle in goshen . the famine continued and the egyptians sold all they had to pharaoh for food . jacob became ill , so joseph took his sons to see him . jacob blessed joseph \\'s sons as his own , putting ephraim ahead of manasseh . jacob gathered his sons and blessed each of them . he charged them to bury him with abraham in the cave in canaan , and then he died . pharaoh allowed joseph to go and bury jacob . before joseph died , he said that god would lead his people back to the promised land .'"
      ]
     },
     "execution_count": 113,
     "metadata": {},
     "output_type": "execute_result"
    }
   ],
   "source": [
    "#sentences_66[0]\n",
    "#summaries_66[0]"
   ]
  },
  {
   "cell_type": "code",
   "execution_count": 139,
   "metadata": {},
   "outputs": [],
   "source": [
    "chapters_per_book = []\n",
    "for n in range(len(summaries)):\n",
    "    chapters_per_book.append(len(summaries[n]))"
   ]
  },
  {
   "cell_type": "code",
   "execution_count": 147,
   "metadata": {},
   "outputs": [
    {
     "data": {
      "image/png": "[encoded data removed]",
      "text/plain": [
       "<Figure size 432x288 with 1 Axes>"
      ]
     },
     "metadata": {
      "needs_background": "light"
     },
     "output_type": "display_data"
    }
   ],
   "source": [
    "import matplotlib.pyplot as plt\n",
    "plt.plot(chapters_per_book, 'ro')\n",
    "plt.title('# chapters per book of the bible')\n",
    "plt.ylabel('number of chapters')\n",
    "plt.xlabel('book number')\n",
    "#plt.ylim((0,0.1))\n",
    "plt.show()"
   ]
  },
  {
   "cell_type": "code",
   "execution_count": 145,
   "metadata": {
    "scrolled": true
   },
   "outputs": [
    {
     "data": {
      "image/png": "[encoded data removed]",
      "text/plain": [
       "<Figure size 432x288 with 1 Axes>"
      ]
     },
     "metadata": {
      "needs_background": "light"
     },
     "output_type": "display_data"
    }
   ],
   "source": [
    "import matplotlib.pyplot as plt\n",
    "plt.plot(sum_text_ratio)\n",
    "plt.title('ratio of len(summary) / len(sentences)\\n for each book')\n",
    "#plt.ylabel('')\n",
    "plt.xlabel('book number')\n",
    "plt.ylim((0,0.1))\n",
    "plt.show()"
   ]
  },
  {
   "cell_type": "code",
   "execution_count": 144,
   "metadata": {},
   "outputs": [
    {
     "data": {
      "image/png": "[encoded data removed]",
      "text/plain": [
       "<Figure size 432x288 with 1 Axes>"
      ]
     },
     "metadata": {
      "needs_background": "light"
     },
     "output_type": "display_data"
    }
   ],
   "source": [
    "import matplotlib.pyplot as plt\n",
    "plt.plot(sum_text_ratio_1189)\n",
    "plt.title('ratio of len(summary) / len(sentences)\\n for each chapter')\n",
    "#plt.ylabel('')\n",
    "plt.xlabel('chapter number')\n",
    "plt.ylim((0,0.7))\n",
    "plt.show()"
   ]
  }
 ],
 "metadata": {
  "kernelspec": {
   "display_name": "Python 3",
   "language": "python",
   "name": "python3"
  },
  "language_info": {
   "codemirror_mode": {
    "name": "ipython",
    "version": 3
   },
   "file_extension": ".py",
   "mimetype": "text/x-python",
   "name": "python",
   "nbconvert_exporter": "python",
   "pygments_lexer": "ipython3",
   "version": "3.7.4"
  }
 },
 "nbformat": 4,
 "nbformat_minor": 4
}
